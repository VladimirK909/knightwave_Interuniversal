{
  "nbformat": 4,
  "nbformat_minor": 0,
  "metadata": {
    "colab": {
      "provenance": []
    },
    "kernelspec": {
      "name": "python3",
      "display_name": "Python 3"
    },
    "language_info": {
      "name": "python"
    }
  },
  "cells": [
    {
      "cell_type": "markdown",
      "source": [
        "### Setting up the virtual environment\n",
        "This part is for Google Colab, omit it if you already have a properly set up environment."
      ],
      "metadata": {
        "id": "iy7u4hE3y7k9"
      }
    },
    {
      "cell_type": "code",
      "execution_count": 51,
      "metadata": {
        "colab": {
          "base_uri": "https://localhost:8080/"
        },
        "id": "uDjvdPDWn3-o",
        "outputId": "b860924b-5489-4142-c0e9-f098d2db56e1",
        "collapsed": true
      },
      "outputs": [
        {
          "output_type": "stream",
          "name": "stdout",
          "text": [
            "Requirement already satisfied: PyPortfolioOpt in /usr/local/lib/python3.11/dist-packages (1.5.6)\n",
            "Requirement already satisfied: cvxpy>=1.1.19 in /usr/local/lib/python3.11/dist-packages (from PyPortfolioOpt) (1.6.5)\n",
            "Requirement already satisfied: ecos<3.0.0,>=2.0.14 in /usr/local/lib/python3.11/dist-packages (from PyPortfolioOpt) (2.0.14)\n",
            "Requirement already satisfied: numpy>=1.26.0 in /usr/local/lib/python3.11/dist-packages (from PyPortfolioOpt) (2.0.2)\n",
            "Requirement already satisfied: pandas>=0.19 in /usr/local/lib/python3.11/dist-packages (from PyPortfolioOpt) (2.2.2)\n",
            "Requirement already satisfied: plotly<6.0.0,>=5.0.0 in /usr/local/lib/python3.11/dist-packages (from PyPortfolioOpt) (5.24.1)\n",
            "Requirement already satisfied: scipy>=1.3 in /usr/local/lib/python3.11/dist-packages (from PyPortfolioOpt) (1.15.2)\n",
            "Requirement already satisfied: osqp>=0.6.2 in /usr/local/lib/python3.11/dist-packages (from cvxpy>=1.1.19->PyPortfolioOpt) (1.0.3)\n",
            "Requirement already satisfied: clarabel>=0.5.0 in /usr/local/lib/python3.11/dist-packages (from cvxpy>=1.1.19->PyPortfolioOpt) (0.10.0)\n",
            "Requirement already satisfied: scs>=3.2.4.post1 in /usr/local/lib/python3.11/dist-packages (from cvxpy>=1.1.19->PyPortfolioOpt) (3.2.7.post2)\n",
            "Requirement already satisfied: python-dateutil>=2.8.2 in /usr/local/lib/python3.11/dist-packages (from pandas>=0.19->PyPortfolioOpt) (2.9.0.post0)\n",
            "Requirement already satisfied: pytz>=2020.1 in /usr/local/lib/python3.11/dist-packages (from pandas>=0.19->PyPortfolioOpt) (2025.2)\n",
            "Requirement already satisfied: tzdata>=2022.7 in /usr/local/lib/python3.11/dist-packages (from pandas>=0.19->PyPortfolioOpt) (2025.2)\n",
            "Requirement already satisfied: tenacity>=6.2.0 in /usr/local/lib/python3.11/dist-packages (from plotly<6.0.0,>=5.0.0->PyPortfolioOpt) (9.1.2)\n",
            "Requirement already satisfied: packaging in /usr/local/lib/python3.11/dist-packages (from plotly<6.0.0,>=5.0.0->PyPortfolioOpt) (24.2)\n",
            "Requirement already satisfied: jinja2 in /usr/local/lib/python3.11/dist-packages (from osqp>=0.6.2->cvxpy>=1.1.19->PyPortfolioOpt) (3.1.6)\n",
            "Requirement already satisfied: setuptools in /usr/local/lib/python3.11/dist-packages (from osqp>=0.6.2->cvxpy>=1.1.19->PyPortfolioOpt) (75.2.0)\n",
            "Requirement already satisfied: joblib in /usr/local/lib/python3.11/dist-packages (from osqp>=0.6.2->cvxpy>=1.1.19->PyPortfolioOpt) (1.4.2)\n",
            "Requirement already satisfied: six>=1.5 in /usr/local/lib/python3.11/dist-packages (from python-dateutil>=2.8.2->pandas>=0.19->PyPortfolioOpt) (1.17.0)\n",
            "Requirement already satisfied: MarkupSafe>=2.0 in /usr/local/lib/python3.11/dist-packages (from jinja2->osqp>=0.6.2->cvxpy>=1.1.19->PyPortfolioOpt) (3.0.2)\n",
            "Requirement already satisfied: qiskit==1.4.2 in /usr/local/lib/python3.11/dist-packages (1.4.2)\n",
            "Requirement already satisfied: rustworkx>=0.15.0 in /usr/local/lib/python3.11/dist-packages (from qiskit==1.4.2) (0.16.0)\n",
            "Requirement already satisfied: numpy<3,>=1.17 in /usr/local/lib/python3.11/dist-packages (from qiskit==1.4.2) (2.0.2)\n",
            "Requirement already satisfied: scipy>=1.5 in /usr/local/lib/python3.11/dist-packages (from qiskit==1.4.2) (1.15.2)\n",
            "Requirement already satisfied: sympy>=1.3 in /usr/local/lib/python3.11/dist-packages (from qiskit==1.4.2) (1.13.1)\n",
            "Requirement already satisfied: dill>=0.3 in /usr/local/lib/python3.11/dist-packages (from qiskit==1.4.2) (0.4.0)\n",
            "Requirement already satisfied: python-dateutil>=2.8.0 in /usr/local/lib/python3.11/dist-packages (from qiskit==1.4.2) (2.9.0.post0)\n",
            "Requirement already satisfied: stevedore>=3.0.0 in /usr/local/lib/python3.11/dist-packages (from qiskit==1.4.2) (5.4.1)\n",
            "Requirement already satisfied: typing-extensions in /usr/local/lib/python3.11/dist-packages (from qiskit==1.4.2) (4.13.2)\n",
            "Requirement already satisfied: symengine<0.14,>=0.11 in /usr/local/lib/python3.11/dist-packages (from qiskit==1.4.2) (0.13.0)\n",
            "Requirement already satisfied: six>=1.5 in /usr/local/lib/python3.11/dist-packages (from python-dateutil>=2.8.0->qiskit==1.4.2) (1.17.0)\n",
            "Requirement already satisfied: pbr>=2.0.0 in /usr/local/lib/python3.11/dist-packages (from stevedore>=3.0.0->qiskit==1.4.2) (6.1.1)\n",
            "Requirement already satisfied: mpmath<1.4,>=1.1.0 in /usr/local/lib/python3.11/dist-packages (from sympy>=1.3->qiskit==1.4.2) (1.3.0)\n",
            "Requirement already satisfied: setuptools in /usr/local/lib/python3.11/dist-packages (from pbr>=2.0.0->stevedore>=3.0.0->qiskit==1.4.2) (75.2.0)\n",
            "Requirement already satisfied: qiskit_optimization in /usr/local/lib/python3.11/dist-packages (0.6.1)\n",
            "Requirement already satisfied: qiskit>=0.44 in /usr/local/lib/python3.11/dist-packages (from qiskit_optimization) (1.4.2)\n",
            "Requirement already satisfied: qiskit-algorithms>=0.2.0 in /usr/local/lib/python3.11/dist-packages (from qiskit_optimization) (0.3.1)\n",
            "Requirement already satisfied: scipy>=1.9.0 in /usr/local/lib/python3.11/dist-packages (from qiskit_optimization) (1.15.2)\n",
            "Requirement already satisfied: numpy>=1.17 in /usr/local/lib/python3.11/dist-packages (from qiskit_optimization) (2.0.2)\n",
            "Requirement already satisfied: docplex!=2.24.231,>=2.21.207 in /usr/local/lib/python3.11/dist-packages (from qiskit_optimization) (2.29.245)\n",
            "Requirement already satisfied: setuptools>=40.1.0 in /usr/local/lib/python3.11/dist-packages (from qiskit_optimization) (75.2.0)\n",
            "Requirement already satisfied: networkx>=2.6.3 in /usr/local/lib/python3.11/dist-packages (from qiskit_optimization) (3.4.2)\n",
            "Requirement already satisfied: six in /usr/local/lib/python3.11/dist-packages (from docplex!=2.24.231,>=2.21.207->qiskit_optimization) (1.17.0)\n",
            "Requirement already satisfied: rustworkx>=0.15.0 in /usr/local/lib/python3.11/dist-packages (from qiskit>=0.44->qiskit_optimization) (0.16.0)\n",
            "Requirement already satisfied: sympy>=1.3 in /usr/local/lib/python3.11/dist-packages (from qiskit>=0.44->qiskit_optimization) (1.13.1)\n",
            "Requirement already satisfied: dill>=0.3 in /usr/local/lib/python3.11/dist-packages (from qiskit>=0.44->qiskit_optimization) (0.4.0)\n",
            "Requirement already satisfied: python-dateutil>=2.8.0 in /usr/local/lib/python3.11/dist-packages (from qiskit>=0.44->qiskit_optimization) (2.9.0.post0)\n",
            "Requirement already satisfied: stevedore>=3.0.0 in /usr/local/lib/python3.11/dist-packages (from qiskit>=0.44->qiskit_optimization) (5.4.1)\n",
            "Requirement already satisfied: typing-extensions in /usr/local/lib/python3.11/dist-packages (from qiskit>=0.44->qiskit_optimization) (4.13.2)\n",
            "Requirement already satisfied: symengine<0.14,>=0.11 in /usr/local/lib/python3.11/dist-packages (from qiskit>=0.44->qiskit_optimization) (0.13.0)\n",
            "Requirement already satisfied: pbr>=2.0.0 in /usr/local/lib/python3.11/dist-packages (from stevedore>=3.0.0->qiskit>=0.44->qiskit_optimization) (6.1.1)\n",
            "Requirement already satisfied: mpmath<1.4,>=1.1.0 in /usr/local/lib/python3.11/dist-packages (from sympy>=1.3->qiskit>=0.44->qiskit_optimization) (1.3.0)\n",
            "Requirement already satisfied: qiskit_algorithms in /usr/local/lib/python3.11/dist-packages (0.3.1)\n",
            "Requirement already satisfied: qiskit>=0.44 in /usr/local/lib/python3.11/dist-packages (from qiskit_algorithms) (1.4.2)\n",
            "Requirement already satisfied: scipy>=1.4 in /usr/local/lib/python3.11/dist-packages (from qiskit_algorithms) (1.15.2)\n",
            "Requirement already satisfied: numpy>=1.17 in /usr/local/lib/python3.11/dist-packages (from qiskit_algorithms) (2.0.2)\n",
            "Requirement already satisfied: rustworkx>=0.15.0 in /usr/local/lib/python3.11/dist-packages (from qiskit>=0.44->qiskit_algorithms) (0.16.0)\n",
            "Requirement already satisfied: sympy>=1.3 in /usr/local/lib/python3.11/dist-packages (from qiskit>=0.44->qiskit_algorithms) (1.13.1)\n",
            "Requirement already satisfied: dill>=0.3 in /usr/local/lib/python3.11/dist-packages (from qiskit>=0.44->qiskit_algorithms) (0.4.0)\n",
            "Requirement already satisfied: python-dateutil>=2.8.0 in /usr/local/lib/python3.11/dist-packages (from qiskit>=0.44->qiskit_algorithms) (2.9.0.post0)\n",
            "Requirement already satisfied: stevedore>=3.0.0 in /usr/local/lib/python3.11/dist-packages (from qiskit>=0.44->qiskit_algorithms) (5.4.1)\n",
            "Requirement already satisfied: typing-extensions in /usr/local/lib/python3.11/dist-packages (from qiskit>=0.44->qiskit_algorithms) (4.13.2)\n",
            "Requirement already satisfied: symengine<0.14,>=0.11 in /usr/local/lib/python3.11/dist-packages (from qiskit>=0.44->qiskit_algorithms) (0.13.0)\n",
            "Requirement already satisfied: six>=1.5 in /usr/local/lib/python3.11/dist-packages (from python-dateutil>=2.8.0->qiskit>=0.44->qiskit_algorithms) (1.17.0)\n",
            "Requirement already satisfied: pbr>=2.0.0 in /usr/local/lib/python3.11/dist-packages (from stevedore>=3.0.0->qiskit>=0.44->qiskit_algorithms) (6.1.1)\n",
            "Requirement already satisfied: mpmath<1.4,>=1.1.0 in /usr/local/lib/python3.11/dist-packages (from sympy>=1.3->qiskit>=0.44->qiskit_algorithms) (1.3.0)\n",
            "Requirement already satisfied: setuptools in /usr/local/lib/python3.11/dist-packages (from pbr>=2.0.0->stevedore>=3.0.0->qiskit>=0.44->qiskit_algorithms) (75.2.0)\n"
          ]
        }
      ],
      "source": [
        "!pip install PyPortfolioOpt\n",
        "!pip install qiskit==1.4.2\n",
        "!pip install qiskit_optimization\n",
        "!pip install qiskit_algorithms"
      ]
    },
    {
      "cell_type": "markdown",
      "source": [
        "### Imports\n",
        "We begin by importing the necessary packages. Pay attention to the last two imports, `quantum_subroutine` and `asset_screening`. You can view these modules in more detail in their respective .py files in the repository.\n",
        "\n",
        "The `quantum_subroutine` module takes care of the data preprocessing, postprocessing, and the implementation of the recursive quantum max-cut.\n",
        "\n",
        "The `asset_screening` module takes care of mitigating the risk-based asset selection performed by the quantum subroutine by aggressively selecting the best performing stocks from the subgroups returned by the quantum subroutine.\n",
        "\n",
        "\n",
        "This might sound somewhat confusing for the time being, but it is explained in more detail below."
      ],
      "metadata": {
        "id": "g3f17bwO_-Oe"
      }
    },
    {
      "cell_type": "code",
      "source": [
        "import networkx as nx\n",
        "import matplotlib.pyplot as plt\n",
        "import pandas as pd\n",
        "import numpy as np\n",
        "import pypfopt\n",
        "import quantum_subroutine as j\n",
        "import asset_screening as s"
      ],
      "metadata": {
        "id": "ZNeOpig_oer9"
      },
      "execution_count": 52,
      "outputs": []
    },
    {
      "cell_type": "markdown",
      "source": [
        "### Loading the data and preprocessing\n",
        "We begin by importing and loading the data using the `data_loader` function from the `quantum_subroutine` module. We then preprocess. To view the preprocessing in more detail, please refer to the `quantum_subroutine` module."
      ],
      "metadata": {
        "id": "lnRR37LLrmNE"
      }
    },
    {
      "cell_type": "code",
      "source": [
        "input_file_name = \"/content/input.json\"\n",
        "\n",
        "# Load the data (assets is an object required for further processing)\n",
        "df, assets = j.data_loader(input_file_name)\n",
        "\n",
        "# We take the entire dataset into consideration in this run.\n",
        "# This can be tweaked by changing the following two bounds:\n",
        "start_date = df.index.min()\n",
        "end_date = df.index.max()\n",
        "\n",
        "# We obtain the maximally connected graph using the `preprocessing` function\n",
        "# from the jimmy module.\n",
        "G = j.preprocessing(df, assets, start_date, end_date)"
      ],
      "metadata": {
        "id": "mwcwyw0HriK8"
      },
      "execution_count": 53,
      "outputs": []
    },
    {
      "cell_type": "markdown",
      "source": [
        "### Quantum Subroutine\n",
        "We proceed by invoking the quantum subroutine.\n",
        "\n",
        "In order to understand how it works and what value"
      ],
      "metadata": {
        "id": "qiz9KmDYtB-3"
      }
    },
    {
      "cell_type": "code",
      "source": [
        "B = j.recursive_maxcut_partition(G, depth=1, level=0, path=\"0\")"
      ],
      "metadata": {
        "id": "zmOyOul_spQ0"
      },
      "execution_count": 54,
      "outputs": []
    },
    {
      "cell_type": "markdown",
      "source": [
        "Now we have the 4 subdivided graphs in the `B` list (two subgraphs per level of subdivision). We visualize them to see what they look like in the following cell:"
      ],
      "metadata": {
        "id": "W-NAIZzut20D"
      }
    },
    {
      "cell_type": "code",
      "source": [
        "def draw_partitioned_graphs(graphs, partitions, positions, titles=None):\n",
        "    fig, axs = plt.subplots(1, len(graphs), figsize=(5 * len(graphs), 4))\n",
        "    if len(graphs) == 1:\n",
        "        axs = [axs]\n",
        "    for i, (G, part, pos) in enumerate(zip(graphs, partitions, positions)):\n",
        "        colors = ['r' if part[node] == 0 else 'c' for node in G.nodes()]\n",
        "        nx.draw(G, pos, with_labels=True, node_color=colors, ax=axs[i])\n",
        "        title = titles[i] if titles else f\"Partition {i}\"\n",
        "        axs[i].set_title(title)\n",
        "    plt.tight_layout()\n",
        "    plt.show()\n",
        "\n",
        "# B is a flat list of subgraphs from recursive_maxcut_partition with depth=1\n",
        "# That means B = [G00, G01, G10, G11] if top-level split gave G0 and G1, each further split\n",
        "\n",
        "positions = [nx.spring_layout(graph, seed=42) for graph in B]\n",
        "partitions = [{n: i % 2 for n in graph.nodes()} for i, graph in enumerate(B)]  # alternate colors\n",
        "\n",
        "draw_partitioned_graphs(B, partitions, positions, titles=[f\"Group {i}\" for i in range(len(B))])"
      ],
      "metadata": {
        "colab": {
          "base_uri": "https://localhost:8080/",
          "height": 235
        },
        "id": "FvFN0qtnt0iT",
        "outputId": "0c86ba33-06d6-49fe-ed74-0579370df231"
      },
      "execution_count": 55,
      "outputs": [
        {
          "output_type": "display_data",
          "data": {
            "text/plain": [
              "<Figure size 2000x400 with 4 Axes>"
            ],
            "image/png": "[encoded data removed]"
          },
          "metadata": {}
        }
      ]
    },
    {
      "cell_type": "markdown",
      "source": [
        "Before proceeding further, we must postprocess the output of the quantum subroutine by taking only the tickers for the assets within each of the subgroups:"
      ],
      "metadata": {
        "id": "nu2pFILCum3i"
      }
    },
    {
      "cell_type": "code",
      "source": [
        "asset_lists = [[] for _ in range(len(B))]  # Initializing an empty list with 4 empty lists inside\n",
        "\n",
        "for i, graph in enumerate(B):\n",
        "    sectors_in_graph = list(graph.nodes)\n",
        "    for asset, data in assets.items():\n",
        "        if data.get('sector') in sectors_in_graph:\n",
        "            asset_lists[i].append(asset)  # Adding the asset to the corresponding list within asset_lists\n",
        "\n",
        "# Visualization of the results:\n",
        "for i, asset_list in enumerate(asset_lists):\n",
        "    print(f\"Subgraph {i}: {asset_list}\")\n",
        "\n",
        "print(asset_lists)"
      ],
      "metadata": {
        "colab": {
          "base_uri": "https://localhost:8080/"
        },
        "id": "GYM70DOYuTTz",
        "outputId": "d891253c-709a-47dd-a8f9-8126f519e1c2"
      },
      "execution_count": 56,
      "outputs": [
        {
          "output_type": "stream",
          "name": "stdout",
          "text": [
            "Subgraph 0: ['AAL', 'AAON', 'AAPL', 'ABNB', 'ACIW', 'ACLS', 'ACMR', 'ADBE', 'ADEA', 'ADI', 'ADP', 'ADSK', 'ADTN', 'AEIS', 'AEVA', 'AFRM', 'AGYS', 'AKAM', 'ALGM', 'ALGT', 'ALKT', 'ALNT', 'ALRM', 'AMAT', 'AMBA', 'AMD', 'AMKR', 'AMPL', 'AMSC', 'AMWD', 'AMZN', 'ANSS', 'AOSL', 'APLD', 'APOG', 'APP', 'APPF', 'APPN', 'APPS', 'ARCB', 'ARHS', 'ARKO', 'ARRY', 'ASLE', 'ASO', 'ASTE', 'ASTS', 'ATRO', 'AUR', 'AVAV', 'AVDX', 'AVGO', 'AVPT', 'AVT', 'AXON', 'BAND', 'BASE', 'BBCP', 'BBSI', 'BELFB', 'BIGC', 'BJRI', 'BKNG', 'BL', 'BLBD', 'BLDP', 'BLKB', 'BLMN', 'BRZE', 'BSY', 'BWMN', 'CAKE', 'CAR', 'CARG', 'CASS', 'CASY', 'CBRL', 'CCCS', 'CCSI', 'CDNS', 'CDW', 'CECO', 'CEVA', 'CFLT', 'CGNX', 'CHDN', 'CHRW', 'CLFD', 'CLMB', 'CMCO', 'CMPO', 'CMPR', 'CNDT', 'CNXC', 'CNXN', 'COHU', 'COLM', 'COMM', 'CPRT', 'CRAI', 'CRCT', 'CRDO', 'CRMT', 'CRNC', 'CROX', 'CRSR', 'CRUS', 'CRWD', 'CSCO', 'CSGS', 'CSX', 'CTAS', 'CTLP', 'CTSH', 'CVCO', 'CVLT', 'CWST', 'CZR', 'DAKT', 'DBX', 'DCBO', 'DDOG', 'DGII', 'DIOD', 'DJCO', 'DKNG', 'DOCU', 'DOMO', 'DOOO', 'DORM', 'DPZ', 'DRS', 'DRVN', 'DSGR', 'DSP', 'DUOL', 'DXPE', 'EBAY', 'EEFT', 'ENPH', 'ENTG', 'ENVX', 'EOSE', 'ERII', 'ETSY', 'EVCM', 'EVGO', 'EVLV', 'EXLS', 'EXPE', 'EXPO', 'EXTR', 'EYE', 'FA', 'FARO', 'FAST', 'FELE', 'FER', 'FFIV', 'FIVE', 'FIVN', 'FLEX', 'FLWS', 'FLYW', 'FORM', 'FOXF', 'FROG', 'FRSH', 'FSLR', 'FTDR', 'FTNT', 'FWRD', 'FWRG', 'GDEN', 'GDYN', 'GEN', 'GIII', 'GLDD', 'GNTX', 'GT', 'GTLB', 'GTX', 'HAS', 'HCKT', 'HEES', 'HLIT', 'HLMN', 'HON', 'HSII', 'HTLD', 'HTZ', 'HUBG', 'HURN', 'IBEX', 'ICFI', 'ICHR', 'IDCC', 'IESC', 'IIIV', 'IMXI', 'INDI', 'INOD', 'INTA', 'INTC', 'IPGP', 'ITRI', 'JACK', 'JAMF', 'JBHT', 'JBLU', 'JKHY', 'KE', 'KELYA', 'KLAC', 'KLIC', 'KLTR', 'KRT', 'KRUS', 'KTOS', 'LASR', 'LCID', 'LECO', 'LEGH', 'LFUS', 'LGIH', 'LIF', 'LIND', 'LITE', 'LKQ', 'LMB', 'LNW', 'LQDT', 'LRCX', 'LSCC', 'LSTR', 'LULU', 'LYFT', 'LYTS', 'LZ', 'MANH', 'MAT', 'MATW', 'MBUU', 'MCHP', 'MCRI', 'MCW', 'MDB', 'MELI', 'MGRC', 'MIDD', 'MITK', 'MKSI', 'MLAB', 'MLKN', 'MNRO', 'MPWR', 'MQ', 'MRCY', 'MRTN', 'MRVL', 'MSFT', 'MSTR', 'MTSI', 'MU', 'MVST', 'MXL', 'MYRG', 'NATH', 'NCNO', 'NDSN', 'NN', 'NOVT', 'NSIT', 'NSSC', 'NTAP', 'NTCT', 'NTGR', 'NTNX', 'NVDA', 'NVEE', 'NVTS', 'NXPI', 'NXT', 'ODFL', 'ODP', 'OFLX', 'OKTA', 'OLED', 'OLPX', 'ON', 'ORLY', 'OSIS', 'OSPN', 'OSW', 'OTEX', 'OTTR', 'PAMT', 'PANW', 'PATK', 'PAYO', 'PAYX', 'PCAR', 'PCT', 'PCTY', 'PDFS', 'PEGA', 'PENG', 'PENN', 'PI', 'PKOH', 'PLAB', 'PLPC', 'PLTR', 'PLUG', 'PLUS', 'PLXS', 'POOL', 'POWI', 'POWL', 'PRGS', 'PRTH', 'PTC', 'PTLO', 'PTON', 'PUBM', 'PZZA', 'QCOM', 'QLYS', 'RBBN', 'RDVT', 'RELY', 'REYN', 'RICK', 'RIVN', 'RKLB', 'RMBS', 'RMNI', 'ROAD', 'ROCK', 'ROP', 'ROST', 'RPAY', 'RPD', 'RRR', 'RUN', 'RUSHA', 'RXT', 'SABR', 'SAIA', 'SAIC', 'SANM', 'SATS', 'SBUX', 'SCSC', 'SCVL', 'SEDG', 'SFIX', 'SHLS', 'SHOO', 'SHOP', 'SHYF', 'SITM', 'SKYT', 'SKYW', 'SLAB', 'SMCI', 'SMTC', 'SNCY', 'SNPS', 'SONO', 'SOUN', 'SPSC', 'SPT', 'SSNC', 'STRL', 'STX', 'SWBI', 'SWIM', 'SWKS', 'SYNA', 'TDUP', 'TEAM', 'TENB', 'TER', 'TH', 'THRM', 'TILE', 'TITN', 'TRI', 'TRIP', 'TRMB', 'TRNS', 'TRS', 'TSCO', 'TSLA', 'TTD', 'TTEK', 'TTMI', 'TXN', 'TXRH', 'UAL', 'UCTT', 'ULCC', 'ULH', 'ULTA', 'UPBD', 'URBN', 'VC', 'VECO', 'VERX', 'VIAV', 'VICR', 'VMEO', 'VRNS', 'VRNT', 'VRRM', 'VRSK', 'VRSN', 'VSAT', 'VSEC', 'WDAY', 'WEN', 'WERN', 'WINA', 'WING', 'WLDN', 'WLFC', 'WOOF', 'WSC', 'WWD', 'WYNN', 'XMTR', 'XPEL', 'XRX', 'ZBRA', 'ZI', 'ZM', 'ZS']\n",
            "Subgraph 1: ['ABCL', 'ABUS', 'ACAD', 'ACDC', 'ACHC', 'ACLX', 'ADMA', 'ADPT', 'ADUS', 'AGIO', 'AHCO', 'AKRO', 'ALGN', 'ALHC', 'ALKS', 'ALLO', 'ALNY', 'ALT', 'AMED', 'AMGN', 'AMLX', 'AMPH', 'AMRX', 'ANAB', 'ANGO', 'ANIP', 'APA', 'APGE', 'APLS', 'ARCT', 'ARDX', 'ARQT', 'ARVN', 'ARWR', 'ASTH', 'ATEC', 'ATRC', 'AUPH', 'AVAH', 'AVDL', 'AXGN', 'AXSM', 'AZTA', 'BBIO', 'BCRX', 'BIIB', 'BKR', 'BLFS', 'BMRN', 'BNTX', 'BPMC', 'BRKR', 'CCRN', 'CDNA', 'CELC', 'CERT', 'CGEM', 'CHRD', 'CHX', 'CLDX', 'CLNE', 'CLOV', 'COLL', 'COO', 'CORT', 'CPRX', 'CRMD', 'CRNX', 'CRON', 'CRSP', 'CSTL', 'CTKB', 'CYTK', 'DAWN', 'DH', 'DNLI', 'DVAX', 'DXCM', 'DYN', 'ELVN', 'EMBC', 'ENSG', 'EOLS', 'ERAS', 'ETNB', 'EWTX', 'EXAS', 'EXE', 'EXEL', 'EYPT', 'FANG', 'FLGT', 'FOLD', 'FTRE', 'GEHC', 'GERN', 'GH', 'GILD', 'HALO', 'HCSG', 'HNRG', 'HOLX', 'HPK', 'HQY', 'HRMY', 'HROW', 'HRTX', 'HSIC', 'HSTM', 'IART', 'IBRX', 'ICUI', 'IDXX', 'ILMN', 'IMVT', 'INCY', 'INDV', 'INNV', 'INSM', 'INVA', 'IONS', 'IOVA', 'IRMD', 'IRON', 'IRTC', 'ISRG', 'JANX', 'JAZZ', 'KALV', 'KIDS', 'KROS', 'KRYS', 'KURA', 'KYMR', 'LAB', 'LFST', 'LGND', 'LIVN', 'LMAT', 'LNTH', 'LQDA', 'MASI', 'MDGL', 'MDXG', 'MEDP', 'MGTX', 'MIRM', 'MLYS', 'MMSI', 'MNKD', 'MRNA', 'MRVI', 'MYGN', 'NBIX', 'NEO', 'NEOG', 'NEXT', 'NFE', 'NRIX', 'NTLA', 'NTRA', 'NVAX', 'NVCR', 'OCUL', 'OFIX', 'OLMA', 'OMCL', 'OMER', 'OPCH', 'OPK', 'ORGO', 'ORIC', 'PACB', 'PAHC', 'PCRX', 'PCVX', 'PGEN', 'PGNY', 'PINC', 'PLSE', 'PNTG', 'PODD', 'PRCT', 'PRTA', 'PRVA', 'PTCT', 'PTEN', 'PTGX', 'QDEL', 'QURE', 'RARE', 'RCKT', 'RDNT', 'REGN', 'REPL', 'RGEN', 'RGNX', 'RIGL', 'RLAY', 'RNA', 'RNAC', 'ROIV', 'RVMD', 'RXRX', 'RXST', 'RYTM', 'SAGE', 'SANA', 'SDGR', 'SGRY', 'SHC', 'SIBN', 'SIGA', 'SLNO', 'SLP', 'SMLR', 'SMMT', 'SNDX', 'SPOK', 'SRDX', 'SRPT', 'SRRK', 'STAA', 'STOK', 'SUPN', 'SVRA', 'SWTX', 'TARS', 'TBPH', 'TBRG', 'TCMD', 'TECH', 'TGTX', 'TMCI', 'TMDX', 'TNDM', 'TRDA', 'TRMD', 'TRML', 'TRVI', 'TVTX', 'TWST', 'TXG', 'TYRA', 'UFPT', 'URGN', 'UTHR', 'VCEL', 'VCYT', 'VERA', 'VERV', 'VIR', 'VRDN', 'VREX', 'VRTX', 'VTRS', 'WBA', 'WFRD', 'WVE', 'XERS', 'XNCR', 'XRAY', 'ZVRA', 'ZYME']\n",
            "Subgraph 2: ['AEP', 'ANDE', 'ARTNA', 'AVO', 'CALM', 'CCEP', 'CEG', 'CELH', 'CENT', 'CHEF', 'CIGI', 'COCO', 'COKE', 'COST', 'CPB', 'CSGP', 'CVGW', 'CWCO', 'DLTR', 'DNUT', 'EQIX', 'EVRG', 'EXC', 'EXPI', 'FIZZ', 'FLNC', 'FRPH', 'FRPT', 'FSV', 'GLPI', 'GO', 'HELE', 'HST', 'IMKTA', 'IPAR', 'JBSS', 'JJSF', 'KDP', 'KHC', 'LAMR', 'LAUR', 'LINC', 'LNT', 'LOPE', 'MDLZ', 'MGEE', 'MGPI', 'MNST', 'MSEX', 'NMRK', 'NWE', 'NWL', 'OLLI', 'OPEN', 'PCH', 'PECO', 'PEP', 'PPC', 'PRDO', 'PSMT', 'RDFN', 'REG', 'RMR', 'SBAC', 'SBRA', 'SENEA', 'SFM', 'SMPL', 'SPTN', 'STKL', 'STRA', 'UDMY', 'UNIT', 'VITL', 'VLGEA', 'WEST', 'XEL', 'YORW']\n",
            "Subgraph 3: ['ACGL', 'ADV', 'AMRK', 'AMSF', 'ANGI', 'ATEX', 'BATRK', 'BCPC', 'BWIN', 'CCOI', 'CENX', 'CHTR', 'CIFR', 'CINF', 'CLSK', 'CMCSA', 'CME', 'COIN', 'COOP', 'CRTO', 'CRVL', 'DASH', 'DHIL', 'EA', 'ECPG', 'EVER', 'FCFS', 'FOXA', 'FYBR', 'GCMG', 'GOGO', 'GOOGL', 'GRPN', 'GSAT', 'GSHD', 'HLNE', 'HWKN', 'IAC', 'IAS', 'IOSP', 'IRDM', 'ITIC', 'KALU', 'LBTYA', 'LILAK', 'LIN', 'MARA', 'MEOH', 'META', 'METC', 'MGNI', 'MKTX', 'MNTK', 'MTCH', 'NDAQ', 'NFLX', 'NMIH', 'NRDS', 'NWPX', 'NWSA', 'NXST', 'OB', 'PARA', 'PFG', 'PLAY', 'PLMR', 'PLTK', 'PPTA', 'PRAA', 'PYPL', 'QNST', 'RDUS', 'RGLD', 'RIOT', 'ROKU', 'ROOT', 'RSVR', 'SAFT', 'SBGI', 'SCHL', 'SEAT', 'SEIC', 'SHEN', 'SIGI', 'SIRI', 'SKWD', 'SSRM', 'STEP', 'STGW', 'STLD', 'THRY', 'TIGO', 'TIPT', 'TMUS', 'TPG', 'TREE', 'TROW', 'TRUP', 'TTWO', 'UFCS', 'UFPI', 'UPST', 'UPWK', 'USLM', 'VALU', 'VCTR', 'VEON', 'WBD', 'WDFC', 'WMG', 'WTW', 'WULF', 'Z', 'ZD', 'ZEUS']\n",
            "[['AAL', 'AAON', 'AAPL', 'ABNB', 'ACIW', 'ACLS', 'ACMR', 'ADBE', 'ADEA', 'ADI', 'ADP', 'ADSK', 'ADTN', 'AEIS', 'AEVA', 'AFRM', 'AGYS', 'AKAM', 'ALGM', 'ALGT', 'ALKT', 'ALNT', 'ALRM', 'AMAT', 'AMBA', 'AMD', 'AMKR', 'AMPL', 'AMSC', 'AMWD', 'AMZN', 'ANSS', 'AOSL', 'APLD', 'APOG', 'APP', 'APPF', 'APPN', 'APPS', 'ARCB', 'ARHS', 'ARKO', 'ARRY', 'ASLE', 'ASO', 'ASTE', 'ASTS', 'ATRO', 'AUR', 'AVAV', 'AVDX', 'AVGO', 'AVPT', 'AVT', 'AXON', 'BAND', 'BASE', 'BBCP', 'BBSI', 'BELFB', 'BIGC', 'BJRI', 'BKNG', 'BL', 'BLBD', 'BLDP', 'BLKB', 'BLMN', 'BRZE', 'BSY', 'BWMN', 'CAKE', 'CAR', 'CARG', 'CASS', 'CASY', 'CBRL', 'CCCS', 'CCSI', 'CDNS', 'CDW', 'CECO', 'CEVA', 'CFLT', 'CGNX', 'CHDN', 'CHRW', 'CLFD', 'CLMB', 'CMCO', 'CMPO', 'CMPR', 'CNDT', 'CNXC', 'CNXN', 'COHU', 'COLM', 'COMM', 'CPRT', 'CRAI', 'CRCT', 'CRDO', 'CRMT', 'CRNC', 'CROX', 'CRSR', 'CRUS', 'CRWD', 'CSCO', 'CSGS', 'CSX', 'CTAS', 'CTLP', 'CTSH', 'CVCO', 'CVLT', 'CWST', 'CZR', 'DAKT', 'DBX', 'DCBO', 'DDOG', 'DGII', 'DIOD', 'DJCO', 'DKNG', 'DOCU', 'DOMO', 'DOOO', 'DORM', 'DPZ', 'DRS', 'DRVN', 'DSGR', 'DSP', 'DUOL', 'DXPE', 'EBAY', 'EEFT', 'ENPH', 'ENTG', 'ENVX', 'EOSE', 'ERII', 'ETSY', 'EVCM', 'EVGO', 'EVLV', 'EXLS', 'EXPE', 'EXPO', 'EXTR', 'EYE', 'FA', 'FARO', 'FAST', 'FELE', 'FER', 'FFIV', 'FIVE', 'FIVN', 'FLEX', 'FLWS', 'FLYW', 'FORM', 'FOXF', 'FROG', 'FRSH', 'FSLR', 'FTDR', 'FTNT', 'FWRD', 'FWRG', 'GDEN', 'GDYN', 'GEN', 'GIII', 'GLDD', 'GNTX', 'GT', 'GTLB', 'GTX', 'HAS', 'HCKT', 'HEES', 'HLIT', 'HLMN', 'HON', 'HSII', 'HTLD', 'HTZ', 'HUBG', 'HURN', 'IBEX', 'ICFI', 'ICHR', 'IDCC', 'IESC', 'IIIV', 'IMXI', 'INDI', 'INOD', 'INTA', 'INTC', 'IPGP', 'ITRI', 'JACK', 'JAMF', 'JBHT', 'JBLU', 'JKHY', 'KE', 'KELYA', 'KLAC', 'KLIC', 'KLTR', 'KRT', 'KRUS', 'KTOS', 'LASR', 'LCID', 'LECO', 'LEGH', 'LFUS', 'LGIH', 'LIF', 'LIND', 'LITE', 'LKQ', 'LMB', 'LNW', 'LQDT', 'LRCX', 'LSCC', 'LSTR', 'LULU', 'LYFT', 'LYTS', 'LZ', 'MANH', 'MAT', 'MATW', 'MBUU', 'MCHP', 'MCRI', 'MCW', 'MDB', 'MELI', 'MGRC', 'MIDD', 'MITK', 'MKSI', 'MLAB', 'MLKN', 'MNRO', 'MPWR', 'MQ', 'MRCY', 'MRTN', 'MRVL', 'MSFT', 'MSTR', 'MTSI', 'MU', 'MVST', 'MXL', 'MYRG', 'NATH', 'NCNO', 'NDSN', 'NN', 'NOVT', 'NSIT', 'NSSC', 'NTAP', 'NTCT', 'NTGR', 'NTNX', 'NVDA', 'NVEE', 'NVTS', 'NXPI', 'NXT', 'ODFL', 'ODP', 'OFLX', 'OKTA', 'OLED', 'OLPX', 'ON', 'ORLY', 'OSIS', 'OSPN', 'OSW', 'OTEX', 'OTTR', 'PAMT', 'PANW', 'PATK', 'PAYO', 'PAYX', 'PCAR', 'PCT', 'PCTY', 'PDFS', 'PEGA', 'PENG', 'PENN', 'PI', 'PKOH', 'PLAB', 'PLPC', 'PLTR', 'PLUG', 'PLUS', 'PLXS', 'POOL', 'POWI', 'POWL', 'PRGS', 'PRTH', 'PTC', 'PTLO', 'PTON', 'PUBM', 'PZZA', 'QCOM', 'QLYS', 'RBBN', 'RDVT', 'RELY', 'REYN', 'RICK', 'RIVN', 'RKLB', 'RMBS', 'RMNI', 'ROAD', 'ROCK', 'ROP', 'ROST', 'RPAY', 'RPD', 'RRR', 'RUN', 'RUSHA', 'RXT', 'SABR', 'SAIA', 'SAIC', 'SANM', 'SATS', 'SBUX', 'SCSC', 'SCVL', 'SEDG', 'SFIX', 'SHLS', 'SHOO', 'SHOP', 'SHYF', 'SITM', 'SKYT', 'SKYW', 'SLAB', 'SMCI', 'SMTC', 'SNCY', 'SNPS', 'SONO', 'SOUN', 'SPSC', 'SPT', 'SSNC', 'STRL', 'STX', 'SWBI', 'SWIM', 'SWKS', 'SYNA', 'TDUP', 'TEAM', 'TENB', 'TER', 'TH', 'THRM', 'TILE', 'TITN', 'TRI', 'TRIP', 'TRMB', 'TRNS', 'TRS', 'TSCO', 'TSLA', 'TTD', 'TTEK', 'TTMI', 'TXN', 'TXRH', 'UAL', 'UCTT', 'ULCC', 'ULH', 'ULTA', 'UPBD', 'URBN', 'VC', 'VECO', 'VERX', 'VIAV', 'VICR', 'VMEO', 'VRNS', 'VRNT', 'VRRM', 'VRSK', 'VRSN', 'VSAT', 'VSEC', 'WDAY', 'WEN', 'WERN', 'WINA', 'WING', 'WLDN', 'WLFC', 'WOOF', 'WSC', 'WWD', 'WYNN', 'XMTR', 'XPEL', 'XRX', 'ZBRA', 'ZI', 'ZM', 'ZS'], ['ABCL', 'ABUS', 'ACAD', 'ACDC', 'ACHC', 'ACLX', 'ADMA', 'ADPT', 'ADUS', 'AGIO', 'AHCO', 'AKRO', 'ALGN', 'ALHC', 'ALKS', 'ALLO', 'ALNY', 'ALT', 'AMED', 'AMGN', 'AMLX', 'AMPH', 'AMRX', 'ANAB', 'ANGO', 'ANIP', 'APA', 'APGE', 'APLS', 'ARCT', 'ARDX', 'ARQT', 'ARVN', 'ARWR', 'ASTH', 'ATEC', 'ATRC', 'AUPH', 'AVAH', 'AVDL', 'AXGN', 'AXSM', 'AZTA', 'BBIO', 'BCRX', 'BIIB', 'BKR', 'BLFS', 'BMRN', 'BNTX', 'BPMC', 'BRKR', 'CCRN', 'CDNA', 'CELC', 'CERT', 'CGEM', 'CHRD', 'CHX', 'CLDX', 'CLNE', 'CLOV', 'COLL', 'COO', 'CORT', 'CPRX', 'CRMD', 'CRNX', 'CRON', 'CRSP', 'CSTL', 'CTKB', 'CYTK', 'DAWN', 'DH', 'DNLI', 'DVAX', 'DXCM', 'DYN', 'ELVN', 'EMBC', 'ENSG', 'EOLS', 'ERAS', 'ETNB', 'EWTX', 'EXAS', 'EXE', 'EXEL', 'EYPT', 'FANG', 'FLGT', 'FOLD', 'FTRE', 'GEHC', 'GERN', 'GH', 'GILD', 'HALO', 'HCSG', 'HNRG', 'HOLX', 'HPK', 'HQY', 'HRMY', 'HROW', 'HRTX', 'HSIC', 'HSTM', 'IART', 'IBRX', 'ICUI', 'IDXX', 'ILMN', 'IMVT', 'INCY', 'INDV', 'INNV', 'INSM', 'INVA', 'IONS', 'IOVA', 'IRMD', 'IRON', 'IRTC', 'ISRG', 'JANX', 'JAZZ', 'KALV', 'KIDS', 'KROS', 'KRYS', 'KURA', 'KYMR', 'LAB', 'LFST', 'LGND', 'LIVN', 'LMAT', 'LNTH', 'LQDA', 'MASI', 'MDGL', 'MDXG', 'MEDP', 'MGTX', 'MIRM', 'MLYS', 'MMSI', 'MNKD', 'MRNA', 'MRVI', 'MYGN', 'NBIX', 'NEO', 'NEOG', 'NEXT', 'NFE', 'NRIX', 'NTLA', 'NTRA', 'NVAX', 'NVCR', 'OCUL', 'OFIX', 'OLMA', 'OMCL', 'OMER', 'OPCH', 'OPK', 'ORGO', 'ORIC', 'PACB', 'PAHC', 'PCRX', 'PCVX', 'PGEN', 'PGNY', 'PINC', 'PLSE', 'PNTG', 'PODD', 'PRCT', 'PRTA', 'PRVA', 'PTCT', 'PTEN', 'PTGX', 'QDEL', 'QURE', 'RARE', 'RCKT', 'RDNT', 'REGN', 'REPL', 'RGEN', 'RGNX', 'RIGL', 'RLAY', 'RNA', 'RNAC', 'ROIV', 'RVMD', 'RXRX', 'RXST', 'RYTM', 'SAGE', 'SANA', 'SDGR', 'SGRY', 'SHC', 'SIBN', 'SIGA', 'SLNO', 'SLP', 'SMLR', 'SMMT', 'SNDX', 'SPOK', 'SRDX', 'SRPT', 'SRRK', 'STAA', 'STOK', 'SUPN', 'SVRA', 'SWTX', 'TARS', 'TBPH', 'TBRG', 'TCMD', 'TECH', 'TGTX', 'TMCI', 'TMDX', 'TNDM', 'TRDA', 'TRMD', 'TRML', 'TRVI', 'TVTX', 'TWST', 'TXG', 'TYRA', 'UFPT', 'URGN', 'UTHR', 'VCEL', 'VCYT', 'VERA', 'VERV', 'VIR', 'VRDN', 'VREX', 'VRTX', 'VTRS', 'WBA', 'WFRD', 'WVE', 'XERS', 'XNCR', 'XRAY', 'ZVRA', 'ZYME'], ['AEP', 'ANDE', 'ARTNA', 'AVO', 'CALM', 'CCEP', 'CEG', 'CELH', 'CENT', 'CHEF', 'CIGI', 'COCO', 'COKE', 'COST', 'CPB', 'CSGP', 'CVGW', 'CWCO', 'DLTR', 'DNUT', 'EQIX', 'EVRG', 'EXC', 'EXPI', 'FIZZ', 'FLNC', 'FRPH', 'FRPT', 'FSV', 'GLPI', 'GO', 'HELE', 'HST', 'IMKTA', 'IPAR', 'JBSS', 'JJSF', 'KDP', 'KHC', 'LAMR', 'LAUR', 'LINC', 'LNT', 'LOPE', 'MDLZ', 'MGEE', 'MGPI', 'MNST', 'MSEX', 'NMRK', 'NWE', 'NWL', 'OLLI', 'OPEN', 'PCH', 'PECO', 'PEP', 'PPC', 'PRDO', 'PSMT', 'RDFN', 'REG', 'RMR', 'SBAC', 'SBRA', 'SENEA', 'SFM', 'SMPL', 'SPTN', 'STKL', 'STRA', 'UDMY', 'UNIT', 'VITL', 'VLGEA', 'WEST', 'XEL', 'YORW'], ['ACGL', 'ADV', 'AMRK', 'AMSF', 'ANGI', 'ATEX', 'BATRK', 'BCPC', 'BWIN', 'CCOI', 'CENX', 'CHTR', 'CIFR', 'CINF', 'CLSK', 'CMCSA', 'CME', 'COIN', 'COOP', 'CRTO', 'CRVL', 'DASH', 'DHIL', 'EA', 'ECPG', 'EVER', 'FCFS', 'FOXA', 'FYBR', 'GCMG', 'GOGO', 'GOOGL', 'GRPN', 'GSAT', 'GSHD', 'HLNE', 'HWKN', 'IAC', 'IAS', 'IOSP', 'IRDM', 'ITIC', 'KALU', 'LBTYA', 'LILAK', 'LIN', 'MARA', 'MEOH', 'META', 'METC', 'MGNI', 'MKTX', 'MNTK', 'MTCH', 'NDAQ', 'NFLX', 'NMIH', 'NRDS', 'NWPX', 'NWSA', 'NXST', 'OB', 'PARA', 'PFG', 'PLAY', 'PLMR', 'PLTK', 'PPTA', 'PRAA', 'PYPL', 'QNST', 'RDUS', 'RGLD', 'RIOT', 'ROKU', 'ROOT', 'RSVR', 'SAFT', 'SBGI', 'SCHL', 'SEAT', 'SEIC', 'SHEN', 'SIGI', 'SIRI', 'SKWD', 'SSRM', 'STEP', 'STGW', 'STLD', 'THRY', 'TIGO', 'TIPT', 'TMUS', 'TPG', 'TREE', 'TROW', 'TRUP', 'TTWO', 'UFCS', 'UFPI', 'UPST', 'UPWK', 'USLM', 'VALU', 'VCTR', 'VEON', 'WBD', 'WDFC', 'WMG', 'WTW', 'WULF', 'Z', 'ZD', 'ZEUS']]\n"
          ]
        }
      ]
    },
    {
      "cell_type": "markdown",
      "source": [
        "### Sortino Choosing\n",
        "Now we select the best 10 in every subgraph based on the Sortino ratio.This yields a portfolio of 40 assets (this is easily changeable, we used 40 here as we had good results with it, in the real world more would probably be required). We use the Sortino ratio due to its relative aggressiveness in order to mitigate the quantum subroutine which encodes risk into the model."
      ],
      "metadata": {
        "id": "rVxj__kivjKh"
      }
    },
    {
      "cell_type": "code",
      "source": [
        "top_assets_all = []\n",
        "\n",
        "for subgraph in asset_lists:\n",
        "    df_subgraph = df[subgraph]\n",
        "\n",
        "    # Drop columns with all NaNs (to avoid issues)\n",
        "    df_subgraph = df_subgraph.dropna(axis=1, how='all')\n",
        "\n",
        "    if df_subgraph.empty:\n",
        "        continue  # skip if no valid data\n",
        "\n",
        "    # Compute daily returns\n",
        "    returns_df = pypfopt.expected_returns.returns_from_prices(df_subgraph)\n",
        "\n",
        "    if returns_df.empty or returns_df.shape[1] == 0:\n",
        "        continue\n",
        "\n",
        "    # Compute Sortino ratios\n",
        "    ratios = s.calculate_sortino_ratio(returns_df)\n",
        "\n",
        "    # Sort and get top 10 assets in this subgraph\n",
        "    top_10 = ratios.sort_values(ascending=False).head(10).index.tolist()\n",
        "\n",
        "    top_assets_all.extend(top_10)\n",
        "\n",
        "# Final result: list of top assets across all subgraphs (10 per group)\n",
        "print(f\"Selected {len(top_assets_all)} assets.\")\n",
        "print(top_assets_all)"
      ],
      "metadata": {
        "colab": {
          "base_uri": "https://localhost:8080/"
        },
        "id": "S0m7fKZb4GKM",
        "outputId": "9deb892e-7efc-487b-c578-8707135e6d62"
      },
      "execution_count": 57,
      "outputs": [
        {
          "output_type": "stream",
          "name": "stdout",
          "text": [
            "Selected 40 assets.\n",
            "['FER', 'LIF', 'LMB', 'AXON', 'PLTR', 'IDCC', 'POWL', 'IESC', 'STRL', 'MSTR', 'SLNO', 'INDV', 'SMMT', 'ADMA', 'SRRK', 'MDGL', 'RYTM', 'INSM', 'BBIO', 'NTRA', 'SFM', 'PRDO', 'CEG', 'CCEP', 'LINC', 'COST', 'LOPE', 'LAUR', 'COCO', 'COKE', 'NFLX', 'SKWD', 'USLM', 'HWKN', 'ROOT', 'COOP', 'VEON', 'TMUS', 'PPTA', 'ACGL']\n"
          ]
        }
      ]
    },
    {
      "cell_type": "markdown",
      "source": [
        "### Classical Weight Optimization"
      ],
      "metadata": {
        "id": "zMBkdS4C52Oe"
      }
    },
    {
      "cell_type": "code",
      "source": [
        "df_selected = df[top_assets_all]\n",
        "df_selected.head()"
      ],
      "metadata": {
        "colab": {
          "base_uri": "https://localhost:8080/",
          "height": 342
        },
        "id": "gl6KOBFO4LPz",
        "outputId": "9660172b-2469-4b80-db27-50bfe193dfcb"
      },
      "execution_count": 58,
      "outputs": [
        {
          "output_type": "execute_result",
          "data": {
            "text/plain": [
              "                  FER  LIF   LMB       AXON  PLTR       IDCC       POWL  \\\n",
              "2022-05-09  22.970497  NaN  5.88  87.889999  7.46  56.213924  23.385435   \n",
              "2022-05-10  22.970497  NaN  6.00  89.459999  7.29  56.090561  24.531496   \n",
              "2022-05-11  23.245127  NaN  5.54  84.370003  6.71  55.549686  24.181051   \n",
              "2022-05-12  23.245127  NaN  5.75  87.040001  7.34  55.635094  24.683046   \n",
              "2022-05-13  23.245127  NaN  5.78  98.220001  8.34  56.602985  24.086332   \n",
              "\n",
              "                 IESC       STRL       MSTR  ...        NFLX  SKWD       USLM  \\\n",
              "2022-05-09  26.879999  22.459999  21.905001  ...  173.100006   NaN  21.199301   \n",
              "2022-05-10  28.270000  22.000000  22.552000  ...  177.660004   NaN  20.735178   \n",
              "2022-05-11  29.160000  22.110001  16.820000  ...  166.369995   NaN  20.816154   \n",
              "2022-05-12  29.160000  22.969999  17.118000  ...  174.309998   NaN  21.683165   \n",
              "2022-05-13  29.330000  22.930000  20.457001  ...  187.639999   NaN  22.198631   \n",
              "\n",
              "                 HWKN       ROOT       COOP   VEON        TMUS  PPTA  \\\n",
              "2022-05-09  35.734524  26.459999  43.250000  12.25  119.041023  3.30   \n",
              "2022-05-10  35.182068  24.299999  42.040001  12.25  120.282974  3.32   \n",
              "2022-05-11  34.959156  21.780001  41.169998  12.00  120.556786  3.22   \n",
              "2022-05-12  35.220844  22.139999  40.439999  11.25  121.290207  3.21   \n",
              "2022-05-13  35.850822  24.480000  42.790001  11.75  123.539406  3.08   \n",
              "\n",
              "                 ACGL  \n",
              "2022-05-09  42.999634  \n",
              "2022-05-10  43.541645  \n",
              "2022-05-11  43.484589  \n",
              "2022-05-12  43.018650  \n",
              "2022-05-13  43.760349  \n",
              "\n",
              "[5 rows x 40 columns]"
            ],
            "text/html": [
              "\n",
              "  <div id=\"df-3492f4da-da5d-448a-acc6-91a83ac65d17\" class=\"colab-df-container\">\n",
              "    <div>\n",
              "<style scoped>\n",
              "    .dataframe tbody tr th:only-of-type {\n",
              "        vertical-align: middle;\n",
              "    }\n",
              "\n",
              "    .dataframe tbody tr th {\n",
              "        vertical-align: top;\n",
              "    }\n",
              "\n",
              "    .dataframe thead th {\n",
              "        text-align: right;\n",
              "    }\n",
              "</style>\n",
              "<table border=\"1\" class=\"dataframe\">\n",
              "  <thead>\n",
              "    <tr style=\"text-align: right;\">\n",
              "      <th></th>\n",
              "      <th>FER</th>\n",
              "      <th>LIF</th>\n",
              "      <th>LMB</th>\n",
              "      <th>AXON</th>\n",
              "      <th>PLTR</th>\n",
              "      <th>IDCC</th>\n",
              "      <th>POWL</th>\n",
              "      <th>IESC</th>\n",
              "      <th>STRL</th>\n",
              "      <th>MSTR</th>\n",
              "      <th>...</th>\n",
              "      <th>NFLX</th>\n",
              "      <th>SKWD</th>\n",
              "      <th>USLM</th>\n",
              "      <th>HWKN</th>\n",
              "      <th>ROOT</th>\n",
              "      <th>COOP</th>\n",
              "      <th>VEON</th>\n",
              "      <th>TMUS</th>\n",
              "      <th>PPTA</th>\n",
              "      <th>ACGL</th>\n",
              "    </tr>\n",
              "  </thead>\n",
              "  <tbody>\n",
              "    <tr>\n",
              "      <th>2022-05-09</th>\n",
              "      <td>22.970497</td>\n",
              "      <td>NaN</td>\n",
              "      <td>5.88</td>\n",
              "      <td>87.889999</td>\n",
              "      <td>7.46</td>\n",
              "      <td>56.213924</td>\n",
              "      <td>23.385435</td>\n",
              "      <td>26.879999</td>\n",
              "      <td>22.459999</td>\n",
              "      <td>21.905001</td>\n",
              "      <td>...</td>\n",
              "      <td>173.100006</td>\n",
              "      <td>NaN</td>\n",
              "      <td>21.199301</td>\n",
              "      <td>35.734524</td>\n",
              "      <td>26.459999</td>\n",
              "      <td>43.250000</td>\n",
              "      <td>12.25</td>\n",
              "      <td>119.041023</td>\n",
              "      <td>3.30</td>\n",
              "      <td>42.999634</td>\n",
              "    </tr>\n",
              "    <tr>\n",
              "      <th>2022-05-10</th>\n",
              "      <td>22.970497</td>\n",
              "      <td>NaN</td>\n",
              "      <td>6.00</td>\n",
              "      <td>89.459999</td>\n",
              "      <td>7.29</td>\n",
              "      <td>56.090561</td>\n",
              "      <td>24.531496</td>\n",
              "      <td>28.270000</td>\n",
              "      <td>22.000000</td>\n",
              "      <td>22.552000</td>\n",
              "      <td>...</td>\n",
              "      <td>177.660004</td>\n",
              "      <td>NaN</td>\n",
              "      <td>20.735178</td>\n",
              "      <td>35.182068</td>\n",
              "      <td>24.299999</td>\n",
              "      <td>42.040001</td>\n",
              "      <td>12.25</td>\n",
              "      <td>120.282974</td>\n",
              "      <td>3.32</td>\n",
              "      <td>43.541645</td>\n",
              "    </tr>\n",
              "    <tr>\n",
              "      <th>2022-05-11</th>\n",
              "      <td>23.245127</td>\n",
              "      <td>NaN</td>\n",
              "      <td>5.54</td>\n",
              "      <td>84.370003</td>\n",
              "      <td>6.71</td>\n",
              "      <td>55.549686</td>\n",
              "      <td>24.181051</td>\n",
              "      <td>29.160000</td>\n",
              "      <td>22.110001</td>\n",
              "      <td>16.820000</td>\n",
              "      <td>...</td>\n",
              "      <td>166.369995</td>\n",
              "      <td>NaN</td>\n",
              "      <td>20.816154</td>\n",
              "      <td>34.959156</td>\n",
              "      <td>21.780001</td>\n",
              "      <td>41.169998</td>\n",
              "      <td>12.00</td>\n",
              "      <td>120.556786</td>\n",
              "      <td>3.22</td>\n",
              "      <td>43.484589</td>\n",
              "    </tr>\n",
              "    <tr>\n",
              "      <th>2022-05-12</th>\n",
              "      <td>23.245127</td>\n",
              "      <td>NaN</td>\n",
              "      <td>5.75</td>\n",
              "      <td>87.040001</td>\n",
              "      <td>7.34</td>\n",
              "      <td>55.635094</td>\n",
              "      <td>24.683046</td>\n",
              "      <td>29.160000</td>\n",
              "      <td>22.969999</td>\n",
              "      <td>17.118000</td>\n",
              "      <td>...</td>\n",
              "      <td>174.309998</td>\n",
              "      <td>NaN</td>\n",
              "      <td>21.683165</td>\n",
              "      <td>35.220844</td>\n",
              "      <td>22.139999</td>\n",
              "      <td>40.439999</td>\n",
              "      <td>11.25</td>\n",
              "      <td>121.290207</td>\n",
              "      <td>3.21</td>\n",
              "      <td>43.018650</td>\n",
              "    </tr>\n",
              "    <tr>\n",
              "      <th>2022-05-13</th>\n",
              "      <td>23.245127</td>\n",
              "      <td>NaN</td>\n",
              "      <td>5.78</td>\n",
              "      <td>98.220001</td>\n",
              "      <td>8.34</td>\n",
              "      <td>56.602985</td>\n",
              "      <td>24.086332</td>\n",
              "      <td>29.330000</td>\n",
              "      <td>22.930000</td>\n",
              "      <td>20.457001</td>\n",
              "      <td>...</td>\n",
              "      <td>187.639999</td>\n",
              "      <td>NaN</td>\n",
              "      <td>22.198631</td>\n",
              "      <td>35.850822</td>\n",
              "      <td>24.480000</td>\n",
              "      <td>42.790001</td>\n",
              "      <td>11.75</td>\n",
              "      <td>123.539406</td>\n",
              "      <td>3.08</td>\n",
              "      <td>43.760349</td>\n",
              "    </tr>\n",
              "  </tbody>\n",
              "</table>\n",
              "<p>5 rows × 40 columns</p>\n",
              "</div>\n",
              "    <div class=\"colab-df-buttons\">\n",
              "\n",
              "  <div class=\"colab-df-container\">\n",
              "    <button class=\"colab-df-convert\" onclick=\"convertToInteractive('df-3492f4da-da5d-448a-acc6-91a83ac65d17')\"\n",
              "            title=\"Convert this dataframe to an interactive table.\"\n",
              "            style=\"display:none;\">\n",
              "\n",
              "  <svg xmlns=\"http://www.w3.org/2000/svg\" height=\"24px\" viewBox=\"0 -960 960 960\">\n",
              "    <path d=\"M120-120v-720h720v720H120Zm60-500h600v-160H180v160Zm220 220h160v-160H400v160Zm0 220h160v-160H400v160ZM180-400h160v-160H180v160Zm440 0h160v-160H620v160ZM180-180h160v-160H180v160Zm440 0h160v-160H620v160Z\"/>\n",
              "  </svg>\n",
              "    </button>\n",
              "\n",
              "  <style>\n",
              "    .colab-df-container {\n",
              "      display:flex;\n",
              "      gap: 12px;\n",
              "    }\n",
              "\n",
              "    .colab-df-convert {\n",
              "      background-color: #E8F0FE;\n",
              "      border: none;\n",
              "      border-radius: 50%;\n",
              "      cursor: pointer;\n",
              "      display: none;\n",
              "      fill: #1967D2;\n",
              "      height: 32px;\n",
              "      padding: 0 0 0 0;\n",
              "      width: 32px;\n",
              "    }\n",
              "\n",
              "    .colab-df-convert:hover {\n",
              "      background-color: #E2EBFA;\n",
              "      box-shadow: 0px 1px 2px rgba(60, 64, 67, 0.3), 0px 1px 3px 1px rgba(60, 64, 67, 0.15);\n",
              "      fill: #174EA6;\n",
              "    }\n",
              "\n",
              "    .colab-df-buttons div {\n",
              "      margin-bottom: 4px;\n",
              "    }\n",
              "\n",
              "    [theme=dark] .colab-df-convert {\n",
              "      background-color: #3B4455;\n",
              "      fill: #D2E3FC;\n",
              "    }\n",
              "\n",
              "    [theme=dark] .colab-df-convert:hover {\n",
              "      background-color: #434B5C;\n",
              "      box-shadow: 0px 1px 3px 1px rgba(0, 0, 0, 0.15);\n",
              "      filter: drop-shadow(0px 1px 2px rgba(0, 0, 0, 0.3));\n",
              "      fill: #FFFFFF;\n",
              "    }\n",
              "  </style>\n",
              "\n",
              "    <script>\n",
              "      const buttonEl =\n",
              "        document.querySelector('#df-3492f4da-da5d-448a-acc6-91a83ac65d17 button.colab-df-convert');\n",
              "      buttonEl.style.display =\n",
              "        google.colab.kernel.accessAllowed ? 'block' : 'none';\n",
              "\n",
              "      async function convertToInteractive(key) {\n",
              "        const element = document.querySelector('#df-3492f4da-da5d-448a-acc6-91a83ac65d17');\n",
              "        const dataTable =\n",
              "          await google.colab.kernel.invokeFunction('convertToInteractive',\n",
              "                                                    [key], {});\n",
              "        if (!dataTable) return;\n",
              "\n",
              "        const docLinkHtml = 'Like what you see? Visit the ' +\n",
              "          '<a target=\"_blank\" href=https://colab.research.google.com/notebooks/data_table.ipynb>data table notebook</a>'\n",
              "          + ' to learn more about interactive tables.';\n",
              "        element.innerHTML = '';\n",
              "        dataTable['output_type'] = 'display_data';\n",
              "        await google.colab.output.renderOutput(dataTable, element);\n",
              "        const docLink = document.createElement('div');\n",
              "        docLink.innerHTML = docLinkHtml;\n",
              "        element.appendChild(docLink);\n",
              "      }\n",
              "    </script>\n",
              "  </div>\n",
              "\n",
              "\n",
              "    <div id=\"df-4d9a2894-c3a2-41e7-9574-c4f87f22d1fc\">\n",
              "      <button class=\"colab-df-quickchart\" onclick=\"quickchart('df-4d9a2894-c3a2-41e7-9574-c4f87f22d1fc')\"\n",
              "                title=\"Suggest charts\"\n",
              "                style=\"display:none;\">\n",
              "\n",
              "<svg xmlns=\"http://www.w3.org/2000/svg\" height=\"24px\"viewBox=\"0 0 24 24\"\n",
              "     width=\"24px\">\n",
              "    <g>\n",
              "        <path d=\"M19 3H5c-1.1 0-2 .9-2 2v14c0 1.1.9 2 2 2h14c1.1 0 2-.9 2-2V5c0-1.1-.9-2-2-2zM9 17H7v-7h2v7zm4 0h-2V7h2v10zm4 0h-2v-4h2v4z\"/>\n",
              "    </g>\n",
              "</svg>\n",
              "      </button>\n",
              "\n",
              "<style>\n",
              "  .colab-df-quickchart {\n",
              "      --bg-color: #E8F0FE;\n",
              "      --fill-color: #1967D2;\n",
              "      --hover-bg-color: #E2EBFA;\n",
              "      --hover-fill-color: #174EA6;\n",
              "      --disabled-fill-color: #AAA;\n",
              "      --disabled-bg-color: #DDD;\n",
              "  }\n",
              "\n",
              "  [theme=dark] .colab-df-quickchart {\n",
              "      --bg-color: #3B4455;\n",
              "      --fill-color: #D2E3FC;\n",
              "      --hover-bg-color: #434B5C;\n",
              "      --hover-fill-color: #FFFFFF;\n",
              "      --disabled-bg-color: #3B4455;\n",
              "      --disabled-fill-color: #666;\n",
              "  }\n",
              "\n",
              "  .colab-df-quickchart {\n",
              "    background-color: var(--bg-color);\n",
              "    border: none;\n",
              "    border-radius: 50%;\n",
              "    cursor: pointer;\n",
              "    display: none;\n",
              "    fill: var(--fill-color);\n",
              "    height: 32px;\n",
              "    padding: 0;\n",
              "    width: 32px;\n",
              "  }\n",
              "\n",
              "  .colab-df-quickchart:hover {\n",
              "    background-color: var(--hover-bg-color);\n",
              "    box-shadow: 0 1px 2px rgba(60, 64, 67, 0.3), 0 1px 3px 1px rgba(60, 64, 67, 0.15);\n",
              "    fill: var(--button-hover-fill-color);\n",
              "  }\n",
              "\n",
              "  .colab-df-quickchart-complete:disabled,\n",
              "  .colab-df-quickchart-complete:disabled:hover {\n",
              "    background-color: var(--disabled-bg-color);\n",
              "    fill: var(--disabled-fill-color);\n",
              "    box-shadow: none;\n",
              "  }\n",
              "\n",
              "  .colab-df-spinner {\n",
              "    border: 2px solid var(--fill-color);\n",
              "    border-color: transparent;\n",
              "    border-bottom-color: var(--fill-color);\n",
              "    animation:\n",
              "      spin 1s steps(1) infinite;\n",
              "  }\n",
              "\n",
              "  @keyframes spin {\n",
              "    0% {\n",
              "      border-color: transparent;\n",
              "      border-bottom-color: var(--fill-color);\n",
              "      border-left-color: var(--fill-color);\n",
              "    }\n",
              "    20% {\n",
              "      border-color: transparent;\n",
              "      border-left-color: var(--fill-color);\n",
              "      border-top-color: var(--fill-color);\n",
              "    }\n",
              "    30% {\n",
              "      border-color: transparent;\n",
              "      border-left-color: var(--fill-color);\n",
              "      border-top-color: var(--fill-color);\n",
              "      border-right-color: var(--fill-color);\n",
              "    }\n",
              "    40% {\n",
              "      border-color: transparent;\n",
              "      border-right-color: var(--fill-color);\n",
              "      border-top-color: var(--fill-color);\n",
              "    }\n",
              "    60% {\n",
              "      border-color: transparent;\n",
              "      border-right-color: var(--fill-color);\n",
              "    }\n",
              "    80% {\n",
              "      border-color: transparent;\n",
              "      border-right-color: var(--fill-color);\n",
              "      border-bottom-color: var(--fill-color);\n",
              "    }\n",
              "    90% {\n",
              "      border-color: transparent;\n",
              "      border-bottom-color: var(--fill-color);\n",
              "    }\n",
              "  }\n",
              "</style>\n",
              "\n",
              "      <script>\n",
              "        async function quickchart(key) {\n",
              "          const quickchartButtonEl =\n",
              "            document.querySelector('#' + key + ' button');\n",
              "          quickchartButtonEl.disabled = true;  // To prevent multiple clicks.\n",
              "          quickchartButtonEl.classList.add('colab-df-spinner');\n",
              "          try {\n",
              "            const charts = await google.colab.kernel.invokeFunction(\n",
              "                'suggestCharts', [key], {});\n",
              "          } catch (error) {\n",
              "            console.error('Error during call to suggestCharts:', error);\n",
              "          }\n",
              "          quickchartButtonEl.classList.remove('colab-df-spinner');\n",
              "          quickchartButtonEl.classList.add('colab-df-quickchart-complete');\n",
              "        }\n",
              "        (() => {\n",
              "          let quickchartButtonEl =\n",
              "            document.querySelector('#df-4d9a2894-c3a2-41e7-9574-c4f87f22d1fc button');\n",
              "          quickchartButtonEl.style.display =\n",
              "            google.colab.kernel.accessAllowed ? 'block' : 'none';\n",
              "        })();\n",
              "      </script>\n",
              "    </div>\n",
              "\n",
              "    </div>\n",
              "  </div>\n"
            ],
            "application/vnd.google.colaboratory.intrinsic+json": {
              "type": "dataframe",
              "variable_name": "df_selected"
            }
          },
          "metadata": {},
          "execution_count": 58
        }
      ]
    },
    {
      "cell_type": "code",
      "source": [
        "from pypfopt.expected_returns import mean_historical_return\n",
        "from pypfopt.risk_models import CovarianceShrinkage\n",
        "\n",
        "mu = mean_historical_return(df_selected)\n",
        "S = CovarianceShrinkage(df_selected).ledoit_wolf()"
      ],
      "metadata": {
        "id": "mMj_GlIR51rU"
      },
      "execution_count": 59,
      "outputs": []
    },
    {
      "cell_type": "code",
      "source": [
        "from pypfopt.efficient_frontier import EfficientFrontier\n",
        "from pypfopt import objective_functions\n",
        "\n",
        "ef = EfficientFrontier(mu, S, verbose=True, solver=\"ECOS\") # we use the ECOS solver to deal with the size and complexity of the data.\n",
        "ef.add_objective(objective_functions.L2_reg, gamma=0.1)\n",
        "w = ef.max_sharpe()\n",
        "print(ef.clean_weights())"
      ],
      "metadata": {
        "colab": {
          "base_uri": "https://localhost:8080/"
        },
        "collapsed": true,
        "id": "WrKQibknvirk",
        "outputId": "9cfc8af8-bcb6-4d25-ccc8-2d97ed36e18b"
      },
      "execution_count": 60,
      "outputs": [
        {
          "output_type": "stream",
          "name": "stdout",
          "text": [
            "===============================================================================\n",
            "                                     CVXPY                                     \n",
            "                                     v1.6.5                                    \n",
            "===============================================================================\n",
            "(CVXPY) May 11 08:32:36 AM: Your problem has 41 variables, 83 constraints, and 0 parameters.\n",
            "(CVXPY) May 11 08:32:36 AM: It is compliant with the following grammars: DCP, DQCP\n",
            "(CVXPY) May 11 08:32:36 AM: (If you need to solve this problem multiple times, but with different data, consider using parameters.)\n",
            "(CVXPY) May 11 08:32:36 AM: CVXPY will first compile your problem; then, it will invoke a numerical solver to obtain a solution.\n",
            "(CVXPY) May 11 08:32:36 AM: Your problem is compiled with the CPP canonicalization backend.\n",
            "-------------------------------------------------------------------------------\n",
            "                                  Compilation                                  \n",
            "-------------------------------------------------------------------------------\n",
            "(CVXPY) May 11 08:32:36 AM: Compiling problem (target solver=ECOS).\n",
            "(CVXPY) May 11 08:32:36 AM: Reduction chain: Dcp2Cone -> CvxAttr2Constr -> ConeMatrixStuffing -> ECOS\n",
            "(CVXPY) May 11 08:32:36 AM: Applying reduction Dcp2Cone\n",
            "(CVXPY) May 11 08:32:36 AM: Applying reduction CvxAttr2Constr\n",
            "(CVXPY) May 11 08:32:36 AM: Applying reduction ConeMatrixStuffing\n",
            "(CVXPY) May 11 08:32:36 AM: Applying reduction ECOS\n",
            "(CVXPY) May 11 08:32:36 AM: Finished problem compilation (took 5.967e-02 seconds).\n",
            "-------------------------------------------------------------------------------\n",
            "                                Numerical solver                               \n",
            "-------------------------------------------------------------------------------\n",
            "(CVXPY) May 11 08:32:36 AM: Invoking solver ECOS  to obtain a solution.\n",
            "-------------------------------------------------------------------------------\n",
            "                                    Summary                                    \n",
            "-------------------------------------------------------------------------------\n",
            "(CVXPY) May 11 08:32:36 AM: Problem status: optimal\n",
            "(CVXPY) May 11 08:32:36 AM: Optimal value: 6.342e-02\n",
            "(CVXPY) May 11 08:32:36 AM: Compilation took 5.967e-02 seconds\n",
            "(CVXPY) May 11 08:32:36 AM: Solver (including time spent in interface) took 1.439e-02 seconds\n",
            "OrderedDict([('FER', 0.00497), ('LIF', 0.0245), ('LMB', 0.05767), ('AXON', 0.03042), ('PLTR', 0.0481), ('IDCC', 0.01881), ('POWL', 0.03303), ('IESC', 0.03538), ('STRL', 0.03204), ('MSTR', 0.05204), ('SLNO', 0.05761), ('INDV', 0.01104), ('SMMT', 0.05328), ('ADMA', 0.04944), ('SRRK', 0.01946), ('MDGL', 0.0199), ('RYTM', 0.05266), ('INSM', 0.01805), ('BBIO', 0.02715), ('NTRA', 0.02345), ('SFM', 0.03095), ('PRDO', 0.01528), ('CEG', 0.02292), ('CCEP', 0.00892), ('LINC', 0.01404), ('COST', 0.00915), ('LOPE', 0.00836), ('LAUR', 0.01087), ('COCO', 0.01535), ('COKE', 0.01158), ('NFLX', 0.02941), ('SKWD', 0.02166), ('USLM', 0.02221), ('HWKN', 0.01619), ('ROOT', 0.02209), ('COOP', 0.01267), ('VEON', 0.01873), ('TMUS', 0.00973), ('PPTA', 0.02099), ('ACGL', 0.00989)])\n"
          ]
        },
        {
          "output_type": "stream",
          "name": "stderr",
          "text": [
            "/usr/local/lib/python3.11/dist-packages/pypfopt/efficient_frontier/efficient_frontier.py:259: UserWarning: max_sharpe transforms the optimization problem so additional objectives may not work as expected.\n",
            "  warnings.warn(\n"
          ]
        }
      ]
    },
    {
      "cell_type": "code",
      "source": [
        "cleaned_weights = ef.clean_weights()\n",
        "print(cleaned_weights)"
      ],
      "metadata": {
        "colab": {
          "base_uri": "https://localhost:8080/"
        },
        "id": "QGWjE06D6R7m",
        "outputId": "da67b6bc-f585-4812-d89c-8cefeb19fcf6"
      },
      "execution_count": 61,
      "outputs": [
        {
          "output_type": "stream",
          "name": "stdout",
          "text": [
            "OrderedDict([('FER', 0.00497), ('LIF', 0.0245), ('LMB', 0.05767), ('AXON', 0.03042), ('PLTR', 0.0481), ('IDCC', 0.01881), ('POWL', 0.03303), ('IESC', 0.03538), ('STRL', 0.03204), ('MSTR', 0.05204), ('SLNO', 0.05761), ('INDV', 0.01104), ('SMMT', 0.05328), ('ADMA', 0.04944), ('SRRK', 0.01946), ('MDGL', 0.0199), ('RYTM', 0.05266), ('INSM', 0.01805), ('BBIO', 0.02715), ('NTRA', 0.02345), ('SFM', 0.03095), ('PRDO', 0.01528), ('CEG', 0.02292), ('CCEP', 0.00892), ('LINC', 0.01404), ('COST', 0.00915), ('LOPE', 0.00836), ('LAUR', 0.01087), ('COCO', 0.01535), ('COKE', 0.01158), ('NFLX', 0.02941), ('SKWD', 0.02166), ('USLM', 0.02221), ('HWKN', 0.01619), ('ROOT', 0.02209), ('COOP', 0.01267), ('VEON', 0.01873), ('TMUS', 0.00973), ('PPTA', 0.02099), ('ACGL', 0.00989)])\n"
          ]
        }
      ]
    },
    {
      "cell_type": "markdown",
      "source": [
        "Thus, we have the optimized weights in the OrderedDict."
      ],
      "metadata": {
        "id": "PeuDM6dCqyhU"
      }
    },
    {
      "cell_type": "code",
      "source": [
        "ef.portfolio_performance(verbose=True)"
      ],
      "metadata": {
        "colab": {
          "base_uri": "https://localhost:8080/"
        },
        "id": "KlJba_E56bSI",
        "outputId": "2a49ade1-7bcc-4385-8da6-74b8b62d3607"
      },
      "execution_count": 62,
      "outputs": [
        {
          "output_type": "stream",
          "name": "stdout",
          "text": [
            "Expected annual return: 107.6%\n",
            "Annual volatility: 26.5%\n",
            "Sharpe Ratio: 4.07\n"
          ]
        },
        {
          "output_type": "execute_result",
          "data": {
            "text/plain": [
              "(np.float64(1.0758885960795144),\n",
              " np.float64(0.2646185544141871),\n",
              " np.float64(4.065809362693096))"
            ]
          },
          "metadata": {},
          "execution_count": 62
        }
      ]
    },
    {
      "cell_type": "markdown",
      "source": [
        "### TESTING"
      ],
      "metadata": {
        "id": "-00h2YgR6jNc"
      }
    },
    {
      "cell_type": "code",
      "source": [
        "import copy\n",
        "import pandas as pd\n",
        "def super_run(input_data,solver_params,extra_arguments,portfolio):\n",
        "    from_=input_data['from']\n",
        "    to_=input_data['to']\n",
        "    assets=input_data['assets']\n",
        "    dfs=[]\n",
        "    for asset in assets:\n",
        "        dfs.append(pd.Series(assets[asset]['history'],name=asset))\n",
        "    df=pd.concat(dfs,axis=1).bfill().pct_change()\n",
        "    ini=1\n",
        "    results={}\n",
        "    results[max([x for x in df.index.tolist() if x<from_])]=ini\n",
        "    for t in [ x for x in df.index.tolist() if x>=from_ and x<=to_]:\n",
        "        d={}\n",
        "        d['num_assets']=input_data['num_assets']\n",
        "        assets_=copy.deepcopy(assets)\n",
        "        for asset in assets_:\n",
        "            assets_[asset]['history']={x:assets_[asset]['history'][x] for x in assets_[asset]['history'] if x<t}\n",
        "        d['assets']=assets_\n",
        "        d['evaluation_date']=t\n",
        "        r=portfolio\n",
        "        gain=0\n",
        "        for asset in r:\n",
        "            gain=gain+(df[asset][t]*r[asset])\n",
        "        ini=ini*(1+gain)\n",
        "        results[t]=ini\n",
        "    res={}\n",
        "    res['results']=results\n",
        "    res['final_result']=ini\n",
        "    return res"
      ],
      "metadata": {
        "id": "QuMAf1gq6lRB"
      },
      "execution_count": 63,
      "outputs": []
    },
    {
      "cell_type": "code",
      "source": [
        "with open(input_file_name) as f:\n",
        "  input_data = json.load(f)\n",
        "\n",
        "data = input_data[\"data\"]\n",
        "\n",
        "# Optional extra parameters\n",
        "if \"extra_arguments\" in input_data:\n",
        "    extra_arguments = input_data['extra_arguments']\n",
        "else:\n",
        "    extra_arguments = {}\n",
        "\n",
        "if \"solver_params\" in input_data:\n",
        "    solver_params = input_data['solver_params']\n",
        "else:\n",
        "    solver_params = {}\n",
        "\n",
        "\n",
        "input_data['from'] = \"2024-07-01\"\n",
        "input_data['to'] = \"2024-08-30\"\n",
        "\n",
        "super_run(data,solver_params,extra_arguments,cleaned_weights)"
      ],
      "metadata": {
        "colab": {
          "base_uri": "https://localhost:8080/"
        },
        "id": "mfkh9ICU6pQz",
        "outputId": "db462e93-3b26-4f80-97cc-89aea6a6b08f"
      },
      "execution_count": 64,
      "outputs": [
        {
          "output_type": "execute_result",
          "data": {
            "text/plain": [
              "{'results': {'2025-03-31': 1,\n",
              "  '2025-04-01': np.float64(0.9991665312245588),\n",
              "  '2025-04-02': np.float64(1.0312119906527468),\n",
              "  '2025-04-03': np.float64(0.9862612247919382),\n",
              "  '2025-04-04': np.float64(0.9295769274691055),\n",
              "  '2025-04-07': np.float64(0.9424671198111471),\n",
              "  '2025-04-08': np.float64(0.9220652012578461),\n",
              "  '2025-04-09': np.float64(1.0187989354838354),\n",
              "  '2025-04-10': np.float64(0.9971914779166392),\n",
              "  '2025-04-11': np.float64(1.0324428835873856),\n",
              "  '2025-04-14': np.float64(1.0659951628358895),\n",
              "  '2025-04-15': np.float64(1.0753945081985363),\n",
              "  '2025-04-16': np.float64(1.0631396316155561),\n",
              "  '2025-04-17': np.float64(1.0714644502811637),\n",
              "  '2025-04-21': np.float64(1.0379010439113545),\n",
              "  '2025-04-22': np.float64(1.080658410780822),\n",
              "  '2025-04-23': np.float64(1.1180159887099352),\n",
              "  '2025-04-24': np.float64(1.1556642492006957),\n",
              "  '2025-04-25': np.float64(1.139883224924204),\n",
              "  '2025-04-28': np.float64(1.150502426153942),\n",
              "  '2025-04-29': np.float64(1.162129856093734),\n",
              "  '2025-04-30': np.float64(1.1652755082303188),\n",
              "  '2025-05-01': np.float64(1.176223829179473)},\n",
              " 'final_result': np.float64(1.176223829179473)}"
            ]
          },
          "metadata": {},
          "execution_count": 64
        }
      ]
    }
  ]
}